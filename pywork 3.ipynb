{
 "cells": [
  {
   "cell_type": "markdown",
   "metadata": {},
   "source": [
    "### Write a Python program to add two positive integers without using the '+' operator. Go to the editor\n",
    "Note: Use bit wise operations to add two numbers"
   ]
  },
  {
   "cell_type": "code",
   "execution_count": 3,
   "metadata": {},
   "outputs": [
    {
     "name": "stdout",
     "output_type": "stream",
     "text": [
      "19\n"
     ]
    }
   ],
   "source": [
    "a=10\n",
    "b=9\n",
    "while b!=0:\n",
    "    data=a&b\n",
    "    a=a^b\n",
    "    b=data<<1\n",
    "print(a)"
   ]
  },
  {
   "cell_type": "markdown",
   "metadata": {},
   "source": [
    "### Write a Python program to get the third side of right angled triangle from two given sides."
   ]
  },
  {
   "cell_type": "code",
   "execution_count": 7,
   "metadata": {},
   "outputs": [
    {
     "data": {
      "text/plain": [
       "'h=5.0'"
      ]
     },
     "execution_count": 7,
     "metadata": {},
     "output_type": "execute_result"
    }
   ],
   "source": [
    "def right(o,a,h):\n",
    "    if o=='x':\n",
    "        return 'o='+str((h**2-a**2)**0.5)\n",
    "    elif a=='x':\n",
    "        return 'a='+str((h**2-o**2)**0.5)\n",
    "    elif h=='x':\n",
    "        return 'h='+str((a**2+o**2)**0.5)\n",
    "    else:\n",
    "        return 'you know'\n",
    "right(3,4,'x')"
   ]
  },
  {
   "cell_type": "markdown",
   "metadata": {},
   "source": [
    "### Write a Python program to find the number of zeros at the end of a factorial of a given positive number."
   ]
  },
  {
   "cell_type": "code",
   "execution_count": 15,
   "metadata": {},
   "outputs": [
    {
     "name": "stdout",
     "output_type": "stream",
     "text": [
      "which factorial zeros you want5\n",
      "no of zeros for given number 5 is 1 zeros\n"
     ]
    }
   ],
   "source": [
    "n=int(input('which factorial zeros you want'))\n",
    "x=n//5\n",
    "y=x\n",
    "while x>0:\n",
    "    x/=5\n",
    "    y+=int(x)\n",
    "print('no of zeros for given number {}'.format(n),'is',y,'zeros')   "
   ]
  },
  {
   "cell_type": "markdown",
   "metadata": {},
   "source": [
    "### wap program is palidorm or not "
   ]
  },
  {
   "cell_type": "code",
   "execution_count": 17,
   "metadata": {},
   "outputs": [
    {
     "name": "stdout",
     "output_type": "stream",
     "text": [
      "enter the word madam\n",
      "palindrom\n"
     ]
    }
   ],
   "source": [
    "s=input('enter the word ')\n",
    "if s==s[::-1]:\n",
    "    print('palindrom')\n",
    "else:\n",
    "    print('not')"
   ]
  },
  {
   "cell_type": "markdown",
   "metadata": {},
   "source": [
    "### Write a Python program to reverse the digits of a given number and add it to the original, If the sum is not a palindrome repeat this procedure. Go to the editor"
   ]
  },
  {
   "cell_type": "code",
   "execution_count": 22,
   "metadata": {},
   "outputs": [
    {
     "name": "stdout",
     "output_type": "stream",
     "text": [
      "enter the number123456\n",
      "654321\n",
      "777777\n",
      "palindrome\n"
     ]
    }
   ],
   "source": [
    "s=int(input('enter the number'))\n",
    "j=str(s)\n",
    "rev=''\n",
    "for i in j:\n",
    "    rev=i+rev\n",
    "print(rev)\n",
    "j1=int(rev)\n",
    "f=j1+s\n",
    "f=str(f)\n",
    "print(f)\n",
    "if f==f[::-1]:\n",
    "    print('palindrome')\n",
    "else:\n",
    "    print('not')"
   ]
  },
  {
   "cell_type": "markdown",
   "metadata": {},
   "source": [
    "### wap revserse the given word"
   ]
  },
  {
   "cell_type": "code",
   "execution_count": 27,
   "metadata": {},
   "outputs": [
    {
     "name": "stdout",
     "output_type": "stream",
     "text": [
      "enter the wordsaikrishna\n",
      "anhsirkias\n"
     ]
    }
   ],
   "source": [
    "s=input('enter the word')\n",
    "rev=''\n",
    "for i in s:\n",
    "    rev=i+rev\n",
    "print(rev)"
   ]
  },
  {
   "cell_type": "code",
   "execution_count": 32,
   "metadata": {},
   "outputs": [
    {
     "name": "stdout",
     "output_type": "stream",
     "text": [
      "enter the wordsaikrishna\n",
      "anhsirkias\n"
     ]
    }
   ],
   "source": [
    "s=input('enter the word')\n",
    "rev=''\n",
    "j=len(s)-1\n",
    "while j>=0:\n",
    "    rev=rev+s[j]\n",
    "    j=j-1\n",
    "print(rev)\n"
   ]
  },
  {
   "cell_type": "markdown",
   "metadata": {},
   "source": [
    "###  wap revserse the given integer"
   ]
  },
  {
   "cell_type": "code",
   "execution_count": 28,
   "metadata": {},
   "outputs": [
    {
     "name": "stdout",
     "output_type": "stream",
     "text": [
      "enter the number123456\n",
      "654321\n"
     ]
    }
   ],
   "source": [
    "s=int(input('enter the number'))\n",
    "rev=0\n",
    "while s>0:\n",
    "    rem=s%10\n",
    "    rev=rev*10+rem\n",
    "    s=s//10\n",
    "print(rev)"
   ]
  },
  {
   "cell_type": "markdown",
   "metadata": {},
   "source": [
    "### Write a loop to find the factorial of any number"
   ]
  },
  {
   "cell_type": "code",
   "execution_count": 34,
   "metadata": {},
   "outputs": [
    {
     "name": "stdout",
     "output_type": "stream",
     "text": [
      "enter the number5\n",
      "120\n"
     ]
    }
   ],
   "source": [
    "s=int(input('enter the number'))\n",
    "fact=1\n",
    "for i in range(1,s+1):\n",
    "    fact*=i\n",
    "print(fact)"
   ]
  },
  {
   "cell_type": "code",
   "execution_count": 39,
   "metadata": {},
   "outputs": [
    {
     "name": "stdout",
     "output_type": "stream",
     "text": [
      "enter the number5\n",
      "120\n"
     ]
    }
   ],
   "source": [
    "#while loop \n",
    "s=int(input('enter the number'))\n",
    "fact=1\n",
    "while s>0:\n",
    "    rem=s%10\n",
    "    fact*=rem\n",
    "    s=s-1\n",
    "print(fact)\n",
    "    "
   ]
  },
  {
   "cell_type": "markdown",
   "metadata": {},
   "source": [
    "### Write a python program to find heights of the top three building in descending order from eight given buildings"
   ]
  },
  {
   "cell_type": "code",
   "execution_count": 40,
   "metadata": {},
   "outputs": [
    {
     "name": "stdout",
     "output_type": "stream",
     "text": [
      "Input the heights of eight buildings:\n",
      "56\n",
      "78\n",
      "98\n",
      "45\n",
      "87\n",
      "98\n",
      "546\n",
      "545\n",
      "Heights of the top three buildings:\n",
      "546\n",
      "545\n",
      "98\n"
     ]
    }
   ],
   "source": [
    "print(\"Input the heights of eight buildings:\")\n",
    "l = [int(input()) for i in range(8)]\n",
    "print(\"Heights of the top three buildings:\")\n",
    "l = sorted(l)\n",
    "print(*l[:4:-1], sep='\\n')"
   ]
  },
  {
   "cell_type": "code",
   "execution_count": 42,
   "metadata": {},
   "outputs": [
    {
     "name": "stdout",
     "output_type": "stream",
     "text": [
      "45\n",
      "7\n",
      "789\n",
      "977\n",
      "5644\n",
      "64\n",
      "54\n",
      "64\n",
      "height of the builds top \n",
      "5644\n",
      "977\n",
      "789\n"
     ]
    }
   ],
   "source": [
    "##my method\n",
    "l=[]\n",
    "for i in range(8):\n",
    "    j=int(input())\n",
    "    l.append(j)\n",
    "    l.sort(reverse=True)\n",
    "print('height of the builds top ')\n",
    "print(*l[0:3],sep='\\n')"
   ]
  },
  {
   "cell_type": "code",
   "execution_count": null,
   "metadata": {},
   "outputs": [],
   "source": []
  }
 ],
 "metadata": {
  "kernelspec": {
   "display_name": "Python 3",
   "language": "python",
   "name": "python3"
  },
  "language_info": {
   "codemirror_mode": {
    "name": "ipython",
    "version": 3
   },
   "file_extension": ".py",
   "mimetype": "text/x-python",
   "name": "python",
   "nbconvert_exporter": "python",
   "pygments_lexer": "ipython3",
   "version": "3.8.3"
  }
 },
 "nbformat": 4,
 "nbformat_minor": 4
}
